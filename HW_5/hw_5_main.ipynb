{
 "cells": [
  {
   "cell_type": "code",
   "id": "initial_id",
   "metadata": {
    "collapsed": true,
    "ExecuteTime": {
     "end_time": "2025-05-01T18:33:10.211522Z",
     "start_time": "2025-05-01T18:33:09.599545Z"
    }
   },
   "source": [
    "import pandas as pd\n",
    "import numpy as np\n",
    "import os\n",
    "from sklearn.model_selection import train_test_split\n",
    "from sklearn.pipeline import Pipeline\n",
    "from sklearn.impute import SimpleImputer\n",
    "from sklearn.preprocessing import StandardScaler, OneHotEncoder\n",
    "from sklearn.compose import ColumnTransformer\n",
    "\n",
    "# Модули из других проектов\n",
    "from HW_2.data_loader import DataLoader"
   ],
   "outputs": [],
   "execution_count": 3
  },
  {
   "metadata": {
    "ExecuteTime": {
     "end_time": "2025-05-01T18:33:10.305534Z",
     "start_time": "2025-05-01T18:33:10.246167Z"
    }
   },
   "cell_type": "code",
   "source": [
    "# === 1. Загрузка данных ===\n",
    "cwd = os.getcwd()\n",
    "file_path = os.path.join(cwd, r'hw_5_data\\train.csv')  # Замените на путь к вашему CSV файлу\n",
    "\n",
    "df = DataLoader.load_from_csv(file_path)\n",
    "\n",
    "X = df.drop(\"SalePrice\", axis=1)\n",
    "y = df[\"SalePrice\"]"
   ],
   "id": "60520b0018b0a895",
   "outputs": [],
   "execution_count": 4
  },
  {
   "metadata": {
    "ExecuteTime": {
     "end_time": "2025-05-01T18:33:10.368203Z",
     "start_time": "2025-05-01T18:33:10.355219Z"
    }
   },
   "cell_type": "code",
   "source": [
    "# === 2. Выделение признаков ===\n",
    "numeric_features = X.select_dtypes(include=['int64', 'float64']).columns.tolist()\n",
    "categorical_features = X.select_dtypes(include=['object']).columns.tolist()"
   ],
   "id": "c8c1d3b5330db778",
   "outputs": [],
   "execution_count": 5
  },
  {
   "metadata": {
    "ExecuteTime": {
     "end_time": "2025-05-01T18:33:10.429204Z",
     "start_time": "2025-05-01T18:33:10.416213Z"
    }
   },
   "cell_type": "code",
   "source": [
    "# === 3. Предобработка для всех моделей, за исключением CatBoost ===\n",
    "numeric_transformer = Pipeline(steps=[\n",
    "    ('imputer', SimpleImputer(strategy='median')),\n",
    "    ('scaler', StandardScaler())\n",
    "])\n",
    "\n",
    "categorical_transformer = Pipeline(steps=[\n",
    "    ('imputer', SimpleImputer(strategy='most_frequent')),\n",
    "    ('onehot', OneHotEncoder(handle_unknown='ignore', sparse_output=False))\n",
    "])\n",
    "\n",
    "preprocessor = ColumnTransformer(\n",
    "    transformers=[\n",
    "        ('num', numeric_transformer, numeric_features),\n",
    "        ('cat', categorical_transformer, categorical_features)\n",
    "    ]\n",
    ")"
   ],
   "id": "52747cc4225d989b",
   "outputs": [],
   "execution_count": 6
  },
  {
   "metadata": {
    "ExecuteTime": {
     "end_time": "2025-05-01T18:33:10.552204Z",
     "start_time": "2025-05-01T18:33:10.523213Z"
    }
   },
   "cell_type": "code",
   "source": [
    "# === 4. Разделение на обучающую и тестовую выборки ===\n",
    "X_train_raw, X_test_raw, y_train, y_test = train_test_split(\n",
    "    X, y, test_size=0.2, random_state=42\n",
    ")"
   ],
   "id": "f5ae9ce1f6b4c5f5",
   "outputs": [],
   "execution_count": 7
  },
  {
   "metadata": {
    "ExecuteTime": {
     "end_time": "2025-05-01T18:33:10.723203Z",
     "start_time": "2025-05-01T18:33:10.646209Z"
    }
   },
   "cell_type": "code",
   "source": [
    "# === 5. Единоразовая предобработка ===\n",
    "X_train_processed = preprocessor.fit_transform(X_train_raw)\n",
    "X_test_processed = preprocessor.transform(X_test_raw)"
   ],
   "id": "6a07967e0c642a3e",
   "outputs": [],
   "execution_count": 8
  },
  {
   "metadata": {
    "jupyter": {
     "is_executing": true
    },
    "ExecuteTime": {
     "start_time": "2025-05-01T18:33:10.821212Z"
    }
   },
   "cell_type": "code",
   "source": [
    "from hyperopt import fmin, tpe, hp, STATUS_OK, Trials\n",
    "from sklearn.model_selection import cross_val_score\n",
    "from sklearn.ensemble import RandomForestRegressor, GradientBoostingRegressor, AdaBoostRegressor, ExtraTreesRegressor\n",
    "from sklearn.linear_model import Ridge, Lasso\n",
    "from lightgbm import LGBMRegressor\n",
    "import numpy as np\n",
    "import warnings\n",
    "warnings.filterwarnings(\"ignore\")\n",
    "\n",
    "# === 6. Словарь моделей и их гиперпараметров ===\n",
    "\n",
    "regressors = {\n",
    "    \"RandomForest\": {\n",
    "        \"model\": RandomForestRegressor,\n",
    "        \"space\": {\n",
    "            \"n_estimators\": hp.choice(\"n_estimators_rf\", range(50, 300, 10)),\n",
    "            \"max_depth\": hp.choice(\"max_depth_rf\", range(3, 30)),\n",
    "            \"min_samples_split\": hp.choice(\"min_samples_split_rf\", range(2, 10)),\n",
    "        }\n",
    "    },\n",
    "    \"GradientBoosting\": {\n",
    "        \"model\": GradientBoostingRegressor,\n",
    "        \"space\": {\n",
    "            \"n_estimators\": hp.choice(\"n_estimators_gb\", range(50, 300, 10)),\n",
    "            \"learning_rate\": hp.uniform(\"learning_rate_gb\", 0.01, 0.3),\n",
    "            \"max_depth\": hp.choice(\"max_depth_gb\", range(3, 10))\n",
    "        }\n",
    "    },\n",
    "    \"AdaBoost\": {\n",
    "        \"model\": AdaBoostRegressor,\n",
    "        \"space\": {\n",
    "            \"n_estimators\": hp.choice(\"n_estimators_ab\", range(50, 300, 10)),\n",
    "            \"learning_rate\": hp.uniform(\"learning_rate_ab\", 0.01, 1.0)\n",
    "        }\n",
    "    },\n",
    "    \"ExtraTrees\": {\n",
    "        \"model\": ExtraTreesRegressor,\n",
    "        \"space\": {\n",
    "            \"n_estimators\": hp.choice(\"n_estimators_et\", range(50, 300, 10)),\n",
    "            \"max_depth\": hp.choice(\"max_depth_et\", range(3, 30))\n",
    "        }\n",
    "    },\n",
    "    \"Lasso\": {\n",
    "        \"model\": Lasso,\n",
    "        \"space\": {\n",
    "            \"alpha\": hp.loguniform(\"alpha_lasso\", np.log(1e-4), np.log(1.0))\n",
    "        }\n",
    "    },\n",
    "    \"Ridge\": {\n",
    "        \"model\": Ridge,\n",
    "        \"space\": {\n",
    "            \"alpha\": hp.loguniform(\"alpha_ridge\", np.log(1e-4), np.log(1.0))\n",
    "        }\n",
    "    },\n",
    "    \"LGBM\": {\n",
    "        \"model\": LGBMRegressor,\n",
    "        \"space\": {\n",
    "            \"n_estimators\": hp.choice(\"n_estimators_lgb\", range(100, 500, 10)),\n",
    "            \"learning_rate\": hp.uniform(\"learning_rate_lgb\", 0.01, 0.1),  # Оптимизируем по более узкому диапазону\n",
    "            \"num_leaves\": hp.choice(\"num_leaves_lgb\", range(20, 100)),  # Ограничиваем диапазон\n",
    "            \"max_depth\": hp.choice(\"max_depth_lgb\", range(3, 15)),  # Параметр max_depth ограничим от 3 до 15\n",
    "            \"min_data_in_leaf\": hp.choice(\"min_data_in_leaf\", range(10, 50)),  # Обязательный параметр для предотвращения переобучения\n",
    "            \"reg_alpha\": hp.uniform(\"reg_alpha\", 0.0, 0.1),  # Регуляризация\n",
    "            \"reg_lambda\": hp.uniform(\"reg_lambda\", 0.0, 0.1)  # Регуляризация\n",
    "        }\n",
    "    }\n",
    "}\n",
    "\n",
    "results = {}\n",
    "\n",
    "for name, config in regressors.items():\n",
    "    print(f\"\\nПоиск для модели: {name}\")\n",
    "\n",
    "    # Функция подбора гиперпараметров\n",
    "\n",
    "    def objective(params):\n",
    "        model = config[\"model\"](**params, random_state=42)\n",
    "        score = cross_val_score(model, X_train_processed, y_train,\n",
    "                                scoring=\"neg_root_mean_squared_error\", cv=3).mean()\n",
    "        return {\"loss\": -score, \"status\": STATUS_OK}\n",
    "\n",
    "    trials = Trials()\n",
    "    best = fmin(\n",
    "        fn=objective,\n",
    "        space=config[\"space\"],\n",
    "        algo=tpe.suggest,\n",
    "        max_evals=30,\n",
    "        trials=trials,\n",
    "        rstate=np.random.default_rng(42)\n",
    "    )\n",
    "\n",
    "    best_score = min(trials.losses())\n",
    "    results[name] = {\"best_params\": best, \"rmse\": round(best_score, 4)}\n",
    "\n",
    "# Вывод результатов\n",
    "df_results = pd.DataFrame.from_dict(results, orient=\"index\")\n",
    "df_results = df_results.sort_values(by=\"rmse\", ascending=False)\n",
    "print(\"\\nФинальные результаты:\")\n",
    "display(df_results)"
   ],
   "id": "cd99d828e0f75a79",
   "outputs": [
    {
     "name": "stdout",
     "output_type": "stream",
     "text": [
      "\n",
      "Поиск для модели: RandomForest\n",
      " 33%|███▎      | 10/30 [01:19<03:08,  9.42s/trial, best loss: 29532.675634852727]"
     ]
    }
   ],
   "execution_count": null
  },
  {
   "metadata": {},
   "cell_type": "code",
   "outputs": [],
   "execution_count": null,
   "source": [
    "# Некоторые модели требуют обработки индексов после hp.choice\n",
    "def decode_hyperopt_params(name, raw_params):\n",
    "    space = regressors[name][\"space\"]\n",
    "    decoded = {}\n",
    "    for key, val in raw_params.items():\n",
    "        if isinstance(space[key], hp.choice):\n",
    "            options = space[key].pos_args[0]\n",
    "            decoded[key] = options[val]\n",
    "        else:\n",
    "            decoded[key] = val\n",
    "    return decoded"
   ],
   "id": "39261de95551c6eb"
  },
  {
   "metadata": {},
   "cell_type": "code",
   "outputs": [],
   "execution_count": null,
   "source": [
    "from sklearn.metrics import mean_squared_error, mean_absolute_error, r2_score\n",
    "\n",
    "final_results = []\n",
    "\n",
    "for model_name in df_results.index:\n",
    "    print(f\"Обработка модели: {model_name}\")\n",
    "\n",
    "    best_params = df_results.loc[model_name, \"best_params\"]\n",
    "    decoded_params = decode_hyperopt_params(model_name, best_params)\n",
    "\n",
    "    ModelClass = regressors[model_name][\"model\"]\n",
    "    model = ModelClass(**decoded_params, random_state=42)\n",
    "    model.fit(X_train_processed, y_train)\n",
    "\n",
    "    y_pred = model.predict(X_test_processed)\n",
    "\n",
    "    mae = mean_absolute_error(y_test, y_pred)\n",
    "    mse = mean_squared_error(y_test, y_pred)\n",
    "    rmse = mean_squared_error(y_test, y_pred, squared=False)\n",
    "    r2 = r2_score(y_test, y_pred)\n",
    "\n",
    "    final_results.append({\n",
    "        \"Model\": model_name,\n",
    "        \"MAE\": round(mae, 2),\n",
    "        \"MSE\": round(mse, 2),\n",
    "        \"RMSE\": round(rmse, 2),\n",
    "        \"R²\": round(r2, 2)\n",
    "    })\n",
    "\n",
    "final_results_df = pd.DataFrame(final_results).sort_values(\"RMSE\", ascending=False)\n",
    "print(\"\\nИтоговое сравнение моделей:\")\n",
    "display(final_results_df)"
   ],
   "id": "d449ac601fe47738"
  }
 ],
 "metadata": {
  "kernelspec": {
   "display_name": "Python 3",
   "language": "python",
   "name": "python3"
  },
  "language_info": {
   "codemirror_mode": {
    "name": "ipython",
    "version": 2
   },
   "file_extension": ".py",
   "mimetype": "text/x-python",
   "name": "python",
   "nbconvert_exporter": "python",
   "pygments_lexer": "ipython2",
   "version": "2.7.6"
  }
 },
 "nbformat": 4,
 "nbformat_minor": 5
}
